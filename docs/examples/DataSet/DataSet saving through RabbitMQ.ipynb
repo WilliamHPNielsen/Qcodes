{
 "cells": [
  {
   "cell_type": "code",
   "execution_count": 1,
   "metadata": {},
   "outputs": [],
   "source": [
    "from qcodes import config\n",
    "from qcodes.dataset.data_set import DataSet\n",
    "from qcodes.dataset.database import get_DB_location\n",
    "from qcodes.dataset.rabbitmq_storage_interface import RabbitMQWriterInterface\n",
    "from numpy import random\n",
    "\n",
    "import logging\n",
    "logging.basicConfig(level=logging.INFO)"
   ]
  },
  {
   "cell_type": "code",
   "execution_count": 2,
   "metadata": {},
   "outputs": [
    {
     "name": "stdout",
     "output_type": "stream",
     "text": [
      "C:\\Users\\wihpniel\\src\\Qcodes\\docs\\examples\\DataSet/db_files/hmoiqclehv.db\n"
     ]
    }
   ],
   "source": [
    "name = ''.join([chr(n) for n in random.randint(97, 123, 10)])\n",
    "base_path = \"C:\\\\Users\\wihpniel\\src\\Qcodes\\docs\\examples\\DataSet\"\n",
    "path_to_db = base_path + '/db_files/' + name + '.db'\n",
    "#path_to_db = \"C:\\\\Users\\wihpniel\\src\\Qcodes\\docs\\examples\\DataSet/db_files/vimlrvrkgj.db\"\n",
    "\n",
    "config['core']['db_location'] = path_to_db\n",
    "print(path_to_db)\n"
   ]
  },
  {
   "cell_type": "code",
   "execution_count": 3,
   "metadata": {
    "scrolled": false
   },
   "outputs": [
    {
     "name": "stderr",
     "output_type": "stream",
     "text": [
      "INFO:qcodes.dataset.data_set:Creating new run with GUID: aaaaaaaa-0c00-0007-0000-0167adb6a6a3\n",
      "INFO:qcodes.dataset.sqlite_base:Commencing database upgrade\n",
      "INFO:qcodes.dataset.sqlite_base:Starting database upgrade version 0 to 1\n",
      "INFO:qcodes.dataset.sqlite_base:Succesfully performed upgrade 0 -> 1\n",
      "INFO:qcodes.dataset.sqlite_base:Starting database upgrade version 1 to 2\n",
      "INFO:qcodes.dataset.sqlite_base:Succesfully performed upgrade 1 -> 2\n",
      "INFO:qcodes.dataset.sqlite_base:Starting database upgrade version 2 to 3\n",
      "Upgrading database: : 0it [00:00, ?it/s]\n",
      "INFO:qcodes.dataset.sqlite_base:Succesfully performed upgrade 2 -> 3\n"
     ]
    },
    {
     "name": "stdout",
     "output_type": "stream",
     "text": [
      "{'use_test_queue': True, 'path_to_db': 'C:\\\\Users\\\\wihpniel\\\\src\\\\Qcodes\\\\docs\\\\examples\\\\DataSet/db_files/hmoiqclehv.db'}\n"
     ]
    },
    {
     "name": "stderr",
     "output_type": "stream",
     "text": [
      "INFO:pika.adapters.base_connection:Pika version 0.12.0 connecting to ::1:5672\n",
      "INFO:pika.adapters.blocking_connection:Created channel=1\n",
      "INFO:qcodes.dataset.data_storage_interface:Created DataStorageInterface with guid: aaaaaaaa-0c00-0007-0000-0167adb6a6a3, reader: <class 'qcodes.dataset.sqlite_storage_interface.SqliteReaderInterface'>, writer: <class 'qcodes.dataset.rabbitmq_storage_interface.RabbitMQWriterInterface'>, reader_kwargs: {'conn': <ConnectionPlus at 0x00000184DF2C2D88 for sqlite3.Connection at 0x00000184DF2CD570>}, writer_kwargs: {'use_test_queue': True, 'path_to_db': 'C:\\\\Users\\\\wihpniel\\\\src\\\\Qcodes\\\\docs\\\\examples\\\\DataSet/db_files/hmoiqclehv.db'}.\n",
      "ERROR:pika.adapters.base_connection:Socket Error: 10054\n",
      "INFO:pika.connection:Disconnected from RabbitMQ at localhost:5672 (-1): ConnectionResetError(10054, 'An existing connection was forcibly closed by the remote host', None, 10054, None)\n",
      "ERROR:pika.adapters.blocking_connection:Connection close detected; result=BlockingConnection__OnClosedArgs(connection=<SelectConnection CLOSED socket=None params=<ConnectionParameters host=localhost port=5672 virtual_host=/ ssl=False>>, reason_code=-1, reason_text=\"ConnectionResetError(10054, 'An existing connection was forcibly closed by the remote host', None, 10054, None)\")\n",
      "Exception in thread Thread-7:\n",
      "Traceback (most recent call last):\n",
      "  File \"C:\\Users\\wihpniel\\AppData\\Local\\Continuum\\anaconda3\\envs\\qcodesdevel\\lib\\threading.py\", line 916, in _bootstrap_inner\n",
      "    self.run()\n",
      "  File \"c:\\users\\wihpniel\\src\\qcodes\\qcodes\\dataset\\rabbitmq_storage_interface.py\", line 42, in run\n",
      "    self.conn.sleep(self.sleep_time)\n",
      "  File \"C:\\Users\\wihpniel\\AppData\\Local\\Continuum\\anaconda3\\envs\\qcodesdevel\\lib\\site-packages\\pika\\adapters\\blocking_connection.py\", line 775, in sleep\n",
      "    self.process_data_events(time_limit)\n",
      "  File \"C:\\Users\\wihpniel\\AppData\\Local\\Continuum\\anaconda3\\envs\\qcodesdevel\\lib\\site-packages\\pika\\adapters\\blocking_connection.py\", line 752, in process_data_events\n",
      "    self._flush_output(timer.is_ready, common_terminator)\n",
      "  File \"C:\\Users\\wihpniel\\AppData\\Local\\Continuum\\anaconda3\\envs\\qcodesdevel\\lib\\site-packages\\pika\\adapters\\blocking_connection.py\", line 477, in _flush_output\n",
      "    result.reason_text)\n",
      "pika.exceptions.ConnectionClosed: (-1, \"ConnectionResetError(10054, 'An existing connection was forcibly closed by the remote host', None, 10054, None)\")\n",
      "\n"
     ]
    }
   ],
   "source": [
    "ds = DataSet(writerinterface=RabbitMQWriterInterface, exp_name='my experiment', sample_name='no sample', writer_kwargs={'use_test_queue': True})"
   ]
  },
  {
   "cell_type": "code",
   "execution_count": 4,
   "metadata": {},
   "outputs": [
    {
     "ename": "NameError",
     "evalue": "name 'ds' is not defined",
     "output_type": "error",
     "traceback": [
      "\u001b[1;31m---------------------------------------------------------------------------\u001b[0m",
      "\u001b[1;31mNameError\u001b[0m                                 Traceback (most recent call last)",
      "\u001b[1;32m<ipython-input-4-6f4a4004dcca>\u001b[0m in \u001b[0;36m<module>\u001b[1;34m\u001b[0m\n\u001b[1;32m----> 1\u001b[1;33m \u001b[0mds\u001b[0m\u001b[1;33m\u001b[0m\u001b[1;33m\u001b[0m\u001b[0m\n\u001b[0m",
      "\u001b[1;31mNameError\u001b[0m: name 'ds' is not defined"
     ]
    }
   ],
   "source": [
    "ds"
   ]
  },
  {
   "cell_type": "code",
   "execution_count": 3,
   "metadata": {},
   "outputs": [
    {
     "name": "stdout",
     "output_type": "stream",
     "text": [
      "(1, 2, 3)\n"
     ]
    }
   ],
   "source": [
    "bob(1, 2, 3)"
   ]
  },
  {
   "cell_type": "code",
   "execution_count": null,
   "metadata": {},
   "outputs": [],
   "source": []
  }
 ],
 "metadata": {
  "kernelspec": {
   "display_name": "Python 3",
   "language": "python",
   "name": "python3"
  },
  "language_info": {
   "codemirror_mode": {
    "name": "ipython",
    "version": 3
   },
   "file_extension": ".py",
   "mimetype": "text/x-python",
   "name": "python",
   "nbconvert_exporter": "python",
   "pygments_lexer": "ipython3",
   "version": "3.6.7"
  }
 },
 "nbformat": 4,
 "nbformat_minor": 2
}
