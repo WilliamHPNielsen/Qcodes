{
 "cells": [
  {
   "cell_type": "markdown",
   "metadata": {},
   "source": [
    "# Measurement with ZMQ to binary queue example"
   ]
  },
  {
   "cell_type": "code",
   "execution_count": 33,
   "metadata": {},
   "outputs": [],
   "source": [
    "from qcodes.dataset.measurements import Measurement\n",
    "from qcodes.tests.instrument_mocks import DummyInstrument\n",
    "import numpy as np\n",
    "from typing import Dict, List\n",
    "from time import sleep"
   ]
  },
  {
   "cell_type": "code",
   "execution_count": 2,
   "metadata": {},
   "outputs": [],
   "source": [
    "di = DummyInstrument('di', gates=['v1', 'v2'])"
   ]
  },
  {
   "cell_type": "code",
   "execution_count": 34,
   "metadata": {},
   "outputs": [],
   "source": [
    "meas = Measurement()\n",
    "meas.register_parameter(di.v1)\n",
    "meas.register_parameter(di.v2, setpoints=(di.v1,))\n",
    "meas.write_period = 0.5"
   ]
  },
  {
   "cell_type": "code",
   "execution_count": 36,
   "metadata": {},
   "outputs": [
    {
     "name": "stdout",
     "output_type": "stream",
     "text": [
      "Starting experimental run with id: 485\n"
     ]
    }
   ],
   "source": [
    "with meas.run() as ds:\n",
    "    for x, y in zip(np.linspace(0, 1, 100), np.cumsum(np.random.randn(101))):\n",
    "        ds.add_result((di.v1, x), (di.v2, y))\n",
    "        sleep(0.1)"
   ]
  },
  {
   "cell_type": "code",
   "execution_count": 37,
   "metadata": {},
   "outputs": [
    {
     "data": {
      "text/plain": [
       "485"
      ]
     },
     "execution_count": 37,
     "metadata": {},
     "output_type": "execute_result"
    }
   ],
   "source": [
    "ds.dataset.run_id"
   ]
  },
  {
   "cell_type": "code",
   "execution_count": 7,
   "metadata": {},
   "outputs": [],
   "source": [
    "from pickle import Unpickler\n",
    "import qcodes.ZMQ_learning as qzmq"
   ]
  },
  {
   "cell_type": "code",
   "execution_count": 21,
   "metadata": {},
   "outputs": [],
   "source": [
    "def read_entire_queue(path: str) -> List[Dict]:\n",
    "    \"\"\"\n",
    "    Read back an entire pickled queue\n",
    "    \"\"\"\n",
    "    queue = []\n",
    "    with open(path, 'rb') as fh:\n",
    "        up = Unpickler(fh)\n",
    "        still_queue_left = True\n",
    "        while still_queue_left:\n",
    "            try:\n",
    "                queue.append(up.load())\n",
    "            except EOFError:\n",
    "                still_queue_left = False\n",
    "        return queue"
   ]
  },
  {
   "cell_type": "code",
   "execution_count": 38,
   "metadata": {},
   "outputs": [],
   "source": [
    "path = qzmq.__file__.replace('__init__.py', ds.dataset.guid + '.pkl')"
   ]
  },
  {
   "cell_type": "code",
   "execution_count": 39,
   "metadata": {},
   "outputs": [],
   "source": [
    "results = read_entire_queue(path)"
   ]
  },
  {
   "cell_type": "code",
   "execution_count": 45,
   "metadata": {},
   "outputs": [],
   "source": [
    "di_v1 = [[]+res['di_v1'] for res in results]"
   ]
  },
  {
   "cell_type": "code",
   "execution_count": 46,
   "metadata": {},
   "outputs": [
    {
     "data": {
      "text/plain": [
       "[[0.0,\n",
       "  0.010101010101010102,\n",
       "  0.020202020202020204,\n",
       "  0.030303030303030304,\n",
       "  0.040404040404040407,\n",
       "  0.050505050505050511],\n",
       " [0.060606060606060608,\n",
       "  0.070707070707070718,\n",
       "  0.080808080808080815,\n",
       "  0.090909090909090912,\n",
       "  0.10101010101010102],\n",
       " [0.11111111111111112,\n",
       "  0.12121212121212122,\n",
       "  0.13131313131313133,\n",
       "  0.14141414141414144,\n",
       "  0.15151515151515152],\n",
       " [0.16161616161616163,\n",
       "  0.17171717171717174,\n",
       "  0.18181818181818182,\n",
       "  0.19191919191919193,\n",
       "  0.20202020202020204],\n",
       " [0.21212121212121213,\n",
       "  0.22222222222222224,\n",
       "  0.23232323232323235,\n",
       "  0.24242424242424243,\n",
       "  0.25252525252525254],\n",
       " [0.26262626262626265,\n",
       "  0.27272727272727276,\n",
       "  0.28282828282828287,\n",
       "  0.29292929292929293,\n",
       "  0.30303030303030304],\n",
       " [0.31313131313131315,\n",
       "  0.32323232323232326,\n",
       "  0.33333333333333337,\n",
       "  0.34343434343434348,\n",
       "  0.35353535353535359],\n",
       " [0.36363636363636365,\n",
       "  0.37373737373737376,\n",
       "  0.38383838383838387,\n",
       "  0.39393939393939398,\n",
       "  0.40404040404040409],\n",
       " [0.4141414141414142,\n",
       "  0.42424242424242425,\n",
       "  0.43434343434343436,\n",
       "  0.44444444444444448,\n",
       "  0.45454545454545459],\n",
       " [0.4646464646464647,\n",
       "  0.47474747474747481,\n",
       "  0.48484848484848486,\n",
       "  0.49494949494949497,\n",
       "  0.50505050505050508],\n",
       " [0.51515151515151525,\n",
       "  0.5252525252525253,\n",
       "  0.53535353535353536,\n",
       "  0.54545454545454553,\n",
       "  0.55555555555555558],\n",
       " [0.56565656565656575,\n",
       "  0.5757575757575758,\n",
       "  0.58585858585858586,\n",
       "  0.59595959595959602,\n",
       "  0.60606060606060608],\n",
       " [0.61616161616161624,\n",
       "  0.6262626262626263,\n",
       "  0.63636363636363646,\n",
       "  0.64646464646464652,\n",
       "  0.65656565656565657],\n",
       " [0.66666666666666674,\n",
       "  0.6767676767676768,\n",
       "  0.68686868686868696,\n",
       "  0.69696969696969702,\n",
       "  0.70707070707070718],\n",
       " [0.71717171717171724,\n",
       "  0.72727272727272729,\n",
       "  0.73737373737373746,\n",
       "  0.74747474747474751,\n",
       "  0.75757575757575768],\n",
       " [0.76767676767676774,\n",
       "  0.77777777777777779,\n",
       "  0.78787878787878796,\n",
       "  0.79797979797979801,\n",
       "  0.80808080808080818],\n",
       " [0.81818181818181823,\n",
       "  0.8282828282828284,\n",
       "  0.83838383838383845,\n",
       "  0.84848484848484851,\n",
       "  0.85858585858585867],\n",
       " [0.86868686868686873,\n",
       "  0.8787878787878789,\n",
       "  0.88888888888888895,\n",
       "  0.89898989898989912,\n",
       "  0.90909090909090917],\n",
       " [0.91919191919191923,\n",
       "  0.92929292929292939,\n",
       "  0.93939393939393945,\n",
       "  0.94949494949494961,\n",
       "  0.95959595959595967],\n",
       " [0.96969696969696972, 0.97979797979797989, 0.98989898989898994, 1.0]]"
      ]
     },
     "execution_count": 46,
     "metadata": {},
     "output_type": "execute_result"
    }
   ],
   "source": [
    "di_v1"
   ]
  },
  {
   "cell_type": "code",
   "execution_count": 27,
   "metadata": {
    "scrolled": false
   },
   "outputs": [],
   "source": [
    "import matplotlib.pyplot as plt"
   ]
  },
  {
   "cell_type": "code",
   "execution_count": 41,
   "metadata": {},
   "outputs": [
    {
     "data": {
      "text/plain": [
       "[<matplotlib.lines.Line2D at 0x213509f42b0>]"
      ]
     },
     "execution_count": 41,
     "metadata": {},
     "output_type": "execute_result"
    },
    {
     "data": {
      "image/png": "[encoded data removed]",
      "text/plain": [
       "<Figure size 432x288 with 1 Axes>"
      ]
     },
     "metadata": {},
     "output_type": "display_data"
    }
   ],
   "source": [
    "fig, ax = plt.subplots()\n",
    "ax.plot(results[0]['di_v1'], results[0]['di_v2'])"
   ]
  },
  {
   "cell_type": "code",
   "execution_count": null,
   "metadata": {},
   "outputs": [],
   "source": []
  }
 ],
 "metadata": {
  "kernelspec": {
   "display_name": "Python 3",
   "language": "python",
   "name": "python3"
  },
  "language_info": {
   "codemirror_mode": {
    "name": "ipython",
    "version": 3
   },
   "file_extension": ".py",
   "mimetype": "text/x-python",
   "name": "python",
   "nbconvert_exporter": "python",
   "pygments_lexer": "ipython3",
   "version": "3.6.5"
  }
 },
 "nbformat": 4,
 "nbformat_minor": 2
}
