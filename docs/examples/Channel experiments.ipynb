{
 "cells": [
  {
   "cell_type": "code",
   "execution_count": 1,
   "metadata": {},
   "outputs": [
    {
     "name": "stderr",
     "output_type": "stream",
     "text": [
      "User schema at /Users/jhn/qcodesrc_schema.json not found.User settings won't be validated\n"
     ]
    }
   ],
   "source": [
    "from unittest import TestCase\n",
    "import unittest\n",
    "\n",
    "from qcodes.tests.instrument_mocks import DummyChannelInstrument, DummyChannel\n",
    "from qcodes.utils.validators import Numbers\n",
    "from qcodes.instrument.parameter import ManualParameter\n",
    "from qcodes.loops import Loop"
   ]
  },
  {
   "cell_type": "code",
   "execution_count": 2,
   "metadata": {
    "collapsed": true
   },
   "outputs": [],
   "source": [
    "instrument = DummyChannelInstrument(name='testchanneldummy')"
   ]
  },
  {
   "cell_type": "code",
   "execution_count": 3,
   "metadata": {},
   "outputs": [
    {
     "name": "stdout",
     "output_type": "stream",
     "text": [
      "Started at 2017-06-06 13:34:53\n",
      "DataSet:\n",
      "   location = 'data/2017-06-06/#010_{name}_13-34-53'\n",
      "   <Type>   | <array_id>                             | <array.name>                       | <array.shape>\n",
      "   Setpoint | p1_set                                 | p1                                 | (201,)\n",
      "   Measured | testchanneldummy_ChanA_temperature_0_0 | testchanneldummy_ChanA_temperature | (201,)\n",
      "   Measured | testchanneldummy_ChanB_temperature     | testchanneldummy_ChanB_temperature | (201,)\n",
      "   Measured | testchanneldummy_ChanC_temperature     | testchanneldummy_ChanC_temperature | (201,)\n",
      "   Measured | testchanneldummy_ChanD_temperature     | testchanneldummy_ChanD_temperature | (201,)\n",
      "   Measured | testchanneldummy_ChanE_temperature     | testchanneldummy_ChanE_temperature | (201,)\n",
      "   Measured | testchanneldummy_ChanF_temperature     | testchanneldummy_ChanF_temperature | (201,)\n",
      "   Measured | testchanneldummy_ChanA_temperature_1   | temperature                        | (201,)\n",
      "Finished at 2017-06-06 13:34:54\n"
     ]
    }
   ],
   "source": [
    "p1 = ManualParameter(name='p1', vals=Numbers(-10, 10))\n",
    "loop = Loop(p1.sweep(-10,10,0.1), 0.001).each(instrument.channels.temperature,\n",
    "                                              instrument.channels[0].temperature)\n",
    "data = loop.run()\n",
    "#self.assertEqual(data.p1_set.ndarray.shape, (201, ))\n",
    "#self.assertEqual(data.testchanneldummy_testchanneldummy_ChanA_temperature.ndarray.shape, (201, ))\n",
    "# loop = Loop(p1.sweep(-10,10,0.1), 0.001).each(instrument.channels[0].temperature)\n",
    "# data = loop.run()"
   ]
  },
  {
   "cell_type": "code",
   "execution_count": 4,
   "metadata": {},
   "outputs": [
    {
     "data": {
      "text/plain": [
       "('testchanneldummy_ChanA_temperature',\n",
       " 'testchanneldummy_ChanB_temperature',\n",
       " 'testchanneldummy_ChanC_temperature',\n",
       " 'testchanneldummy_ChanD_temperature',\n",
       " 'testchanneldummy_ChanE_temperature',\n",
       " 'testchanneldummy_ChanF_temperature')"
      ]
     },
     "execution_count": 4,
     "metadata": {},
     "output_type": "execute_result"
    }
   ],
   "source": [
    "instrument.channels.temperature.names"
   ]
  },
  {
   "cell_type": "code",
   "execution_count": 5,
   "metadata": {},
   "outputs": [
    {
     "data": {
      "text/plain": [
       "'temperature'"
      ]
     },
     "execution_count": 5,
     "metadata": {},
     "output_type": "execute_result"
    }
   ],
   "source": [
    "instrument.A.temperature.name"
   ]
  },
  {
   "cell_type": "code",
   "execution_count": 6,
   "metadata": {},
   "outputs": [
    {
     "data": {
      "text/plain": [
       "'testchanneldummy_ChanA_temperature'"
      ]
     },
     "execution_count": 6,
     "metadata": {},
     "output_type": "execute_result"
    }
   ],
   "source": [
    "instrument.A.temperature.full_name"
   ]
  },
  {
   "cell_type": "code",
   "execution_count": 7,
   "metadata": {},
   "outputs": [
    {
     "data": {
      "text/plain": [
       "'testchanneldummy_ChanA'"
      ]
     },
     "execution_count": 7,
     "metadata": {},
     "output_type": "execute_result"
    }
   ],
   "source": [
    "instrument.A.temperature._instrument.name"
   ]
  },
  {
   "cell_type": "code",
   "execution_count": 8,
   "metadata": {},
   "outputs": [
    {
     "data": {
      "text/plain": [
       "'testchanneldummy_ChanA'"
      ]
     },
     "execution_count": 8,
     "metadata": {},
     "output_type": "execute_result"
    }
   ],
   "source": [
    "instrument.channels[0].temperature._instrument.name"
   ]
  },
  {
   "cell_type": "code",
   "execution_count": 9,
   "metadata": {},
   "outputs": [
    {
     "data": {
      "text/plain": [
       "'testchanneldummy'"
      ]
     },
     "execution_count": 9,
     "metadata": {},
     "output_type": "execute_result"
    }
   ],
   "source": [
    "instrument.channels.temperature._instrument.name"
   ]
  },
  {
   "cell_type": "code",
   "execution_count": 10,
   "metadata": {
    "collapsed": true
   },
   "outputs": [],
   "source": [
    "mcip = instrument.channels.temperature"
   ]
  },
  {
   "cell_type": "code",
   "execution_count": 11,
   "metadata": {},
   "outputs": [
    {
     "data": {
      "text/plain": [
       "'testchanneldummy_Multi_temperature'"
      ]
     },
     "execution_count": 11,
     "metadata": {},
     "output_type": "execute_result"
    }
   ],
   "source": [
    "mcip.full_name"
   ]
  },
  {
   "cell_type": "code",
   "execution_count": 12,
   "metadata": {},
   "outputs": [
    {
     "data": {
      "text/plain": [
       "('testchanneldummy_ChanA_temperature',\n",
       " 'testchanneldummy_ChanB_temperature',\n",
       " 'testchanneldummy_ChanC_temperature',\n",
       " 'testchanneldummy_ChanD_temperature',\n",
       " 'testchanneldummy_ChanE_temperature',\n",
       " 'testchanneldummy_ChanF_temperature')"
      ]
     },
     "execution_count": 12,
     "metadata": {},
     "output_type": "execute_result"
    }
   ],
   "source": [
    "mcip.names"
   ]
  },
  {
   "cell_type": "code",
   "execution_count": 13,
   "metadata": {},
   "outputs": [
    {
     "data": {
      "text/plain": [
       "('testchanneldummy_ChanA_temperature',\n",
       " 'testchanneldummy_ChanB_temperature',\n",
       " 'testchanneldummy_ChanC_temperature',\n",
       " 'testchanneldummy_ChanD_temperature',\n",
       " 'testchanneldummy_ChanE_temperature',\n",
       " 'testchanneldummy_ChanF_temperature')"
      ]
     },
     "execution_count": 13,
     "metadata": {},
     "output_type": "execute_result"
    }
   ],
   "source": [
    "mcip.full_names"
   ]
  },
  {
   "cell_type": "code",
   "execution_count": null,
   "metadata": {
    "collapsed": true
   },
   "outputs": [],
   "source": []
  },
  {
   "cell_type": "code",
   "execution_count": null,
   "metadata": {
    "collapsed": true
   },
   "outputs": [],
   "source": []
  },
  {
   "cell_type": "code",
   "execution_count": 14,
   "metadata": {
    "collapsed": true
   },
   "outputs": [],
   "source": [
    "p1 = ManualParameter(name='p1', vals=Numbers(-10, 10))"
   ]
  },
  {
   "cell_type": "code",
   "execution_count": 15,
   "metadata": {
    "collapsed": true
   },
   "outputs": [],
   "source": [
    "loop = Loop(p1.sweep(-10,10,1), 1e-6).each(instrument.channels.temperature)"
   ]
  },
  {
   "cell_type": "code",
   "execution_count": 16,
   "metadata": {},
   "outputs": [
    {
     "name": "stderr",
     "output_type": "stream",
     "text": [
      "WARNING:root:negative delay -0.000000 sec\n",
      "WARNING:root:negative delay -0.000000 sec\n",
      "WARNING:root:negative delay -0.000000 sec\n",
      "WARNING:root:negative delay -0.000001 sec\n",
      "WARNING:root:negative delay -0.000001 sec\n",
      "WARNING:root:negative delay -0.000001 sec\n",
      "WARNING:root:negative delay -0.000001 sec\n",
      "WARNING:root:negative delay -0.000001 sec\n",
      "WARNING:root:negative delay -0.000000 sec\n",
      "WARNING:root:negative delay -0.000000 sec\n",
      "WARNING:root:negative delay -0.000000 sec\n",
      "WARNING:root:negative delay -0.000001 sec\n",
      "WARNING:root:negative delay -0.000001 sec\n",
      "WARNING:root:negative delay -0.000001 sec\n",
      "WARNING:root:negative delay -0.000001 sec\n",
      "WARNING:root:negative delay -0.000001 sec\n",
      "WARNING:root:negative delay -0.000001 sec\n",
      "WARNING:root:negative delay -0.000001 sec\n",
      "WARNING:root:negative delay -0.000002 sec\n",
      "WARNING:root:negative delay -0.000002 sec\n",
      "WARNING:root:negative delay -0.000000 sec\n"
     ]
    },
    {
     "name": "stdout",
     "output_type": "stream",
     "text": [
      "Started at 2017-06-06 13:34:57\n",
      "DataSet:\n",
      "   location = 'data/2017-06-06/#011_{name}_13-34-57'\n",
      "   <Type>   | <array_id>                         | <array.name>                       | <array.shape>\n",
      "   Setpoint | p1_set                             | p1                                 | (21,)\n",
      "   Measured | testchanneldummy_ChanA_temperature | testchanneldummy_ChanA_temperature | (21,)\n",
      "   Measured | testchanneldummy_ChanB_temperature | testchanneldummy_ChanB_temperature | (21,)\n",
      "   Measured | testchanneldummy_ChanC_temperature | testchanneldummy_ChanC_temperature | (21,)\n",
      "   Measured | testchanneldummy_ChanD_temperature | testchanneldummy_ChanD_temperature | (21,)\n",
      "   Measured | testchanneldummy_ChanE_temperature | testchanneldummy_ChanE_temperature | (21,)\n",
      "   Measured | testchanneldummy_ChanF_temperature | testchanneldummy_ChanF_temperature | (21,)\n",
      "Finished at 2017-06-06 13:34:57\n"
     ]
    }
   ],
   "source": [
    "sata =loop.run() "
   ]
  },
  {
   "cell_type": "code",
   "execution_count": 17,
   "metadata": {},
   "outputs": [
    {
     "data": {
      "text/plain": [
       "['__class__',\n",
       " '__delattr__',\n",
       " '__dict__',\n",
       " '__dir__',\n",
       " '__doc__',\n",
       " '__eq__',\n",
       " '__format__',\n",
       " '__ge__',\n",
       " '__getattr__',\n",
       " '__getattribute__',\n",
       " '__gt__',\n",
       " '__hash__',\n",
       " '__init__',\n",
       " '__le__',\n",
       " '__lt__',\n",
       " '__module__',\n",
       " '__ne__',\n",
       " '__new__',\n",
       " '__reduce__',\n",
       " '__reduce_ex__',\n",
       " '__repr__',\n",
       " '__setattr__',\n",
       " '__sizeof__',\n",
       " '__str__',\n",
       " '__subclasshook__',\n",
       " '__weakref__',\n",
       " '_clean_array_ids',\n",
       " '_clean_param_ids',\n",
       " 'action_id_map',\n",
       " 'add_array',\n",
       " 'add_metadata',\n",
       " 'arrays',\n",
       " 'background_functions',\n",
       " 'complete',\n",
       " 'default_formatter',\n",
       " 'default_io',\n",
       " 'default_parameter_array',\n",
       " 'default_parameter_name',\n",
       " 'delegate_attr_dicts',\n",
       " 'delegate_attr_objects',\n",
       " 'finalize',\n",
       " 'formatter',\n",
       " 'fraction_complete',\n",
       " 'get_array_metadata',\n",
       " 'get_changes',\n",
       " 'io',\n",
       " 'last_store',\n",
       " 'last_write',\n",
       " 'location',\n",
       " 'location_provider',\n",
       " 'metadata',\n",
       " 'omit_delegate_attrs',\n",
       " 'p1_set',\n",
       " 'read',\n",
       " 'read_metadata',\n",
       " 'save_metadata',\n",
       " 'snapshot',\n",
       " 'store',\n",
       " 'sync',\n",
       " 'testchanneldummy_ChanA_temperature',\n",
       " 'testchanneldummy_ChanB_temperature',\n",
       " 'testchanneldummy_ChanC_temperature',\n",
       " 'testchanneldummy_ChanD_temperature',\n",
       " 'testchanneldummy_ChanE_temperature',\n",
       " 'testchanneldummy_ChanF_temperature',\n",
       " 'write',\n",
       " 'write_copy',\n",
       " 'write_period']"
      ]
     },
     "execution_count": 17,
     "metadata": {},
     "output_type": "execute_result"
    }
   ],
   "source": [
    "dir(sata)"
   ]
  },
  {
   "cell_type": "code",
   "execution_count": 18,
   "metadata": {},
   "outputs": [
    {
     "data": {
      "text/plain": [
       "{'__class__': 'qcodes.data.data_set.DataSet',\n",
       " 'arrays': {'p1_set': {'__class__': 'qcodes.data.data_array.DataArray',\n",
       "   'action_indices': (),\n",
       "   'array_id': 'p1_set',\n",
       "   'is_setpoint': True,\n",
       "   'label': 'p1',\n",
       "   'name': 'p1',\n",
       "   'shape': (21,),\n",
       "   'unit': '',\n",
       "   'vals': '<Numbers -10<=v<=10>'},\n",
       "  'testchanneldummy_ChanA_temperature': {'__class__': 'qcodes.data.data_array.DataArray',\n",
       "   'action_indices': (0, 0),\n",
       "   'array_id': 'testchanneldummy_ChanA_temperature',\n",
       "   'instrument': 'qcodes.tests.instrument_mocks.DummyChannelInstrument',\n",
       "   'instrument_name': 'testchanneldummy',\n",
       "   'is_setpoint': False,\n",
       "   'label': 'Temperature_A',\n",
       "   'labels': ('Temperature_A',\n",
       "    'Temperature_B',\n",
       "    'Temperature_C',\n",
       "    'Temperature_D',\n",
       "    'Temperature_E',\n",
       "    'Temperature_F'),\n",
       "   'name': 'testchanneldummy_ChanA_temperature',\n",
       "   'names': ('testchanneldummy_ChanA_temperature',\n",
       "    'testchanneldummy_ChanB_temperature',\n",
       "    'testchanneldummy_ChanC_temperature',\n",
       "    'testchanneldummy_ChanD_temperature',\n",
       "    'testchanneldummy_ChanE_temperature',\n",
       "    'testchanneldummy_ChanF_temperature'),\n",
       "   'setpoint_labels': None,\n",
       "   'setpoint_names': None,\n",
       "   'setpoint_units': None,\n",
       "   'shape': (21,),\n",
       "   'unit': 'K',\n",
       "   'units': ('K', 'K', 'K', 'K', 'K', 'K')},\n",
       "  'testchanneldummy_ChanB_temperature': {'__class__': 'qcodes.data.data_array.DataArray',\n",
       "   'action_indices': (0, 1),\n",
       "   'array_id': 'testchanneldummy_ChanB_temperature',\n",
       "   'instrument': 'qcodes.tests.instrument_mocks.DummyChannelInstrument',\n",
       "   'instrument_name': 'testchanneldummy',\n",
       "   'is_setpoint': False,\n",
       "   'label': 'Temperature_B',\n",
       "   'labels': ('Temperature_A',\n",
       "    'Temperature_B',\n",
       "    'Temperature_C',\n",
       "    'Temperature_D',\n",
       "    'Temperature_E',\n",
       "    'Temperature_F'),\n",
       "   'name': 'testchanneldummy_ChanB_temperature',\n",
       "   'names': ('testchanneldummy_ChanA_temperature',\n",
       "    'testchanneldummy_ChanB_temperature',\n",
       "    'testchanneldummy_ChanC_temperature',\n",
       "    'testchanneldummy_ChanD_temperature',\n",
       "    'testchanneldummy_ChanE_temperature',\n",
       "    'testchanneldummy_ChanF_temperature'),\n",
       "   'setpoint_labels': None,\n",
       "   'setpoint_names': None,\n",
       "   'setpoint_units': None,\n",
       "   'shape': (21,),\n",
       "   'unit': 'K',\n",
       "   'units': ('K', 'K', 'K', 'K', 'K', 'K')},\n",
       "  'testchanneldummy_ChanC_temperature': {'__class__': 'qcodes.data.data_array.DataArray',\n",
       "   'action_indices': (0, 2),\n",
       "   'array_id': 'testchanneldummy_ChanC_temperature',\n",
       "   'instrument': 'qcodes.tests.instrument_mocks.DummyChannelInstrument',\n",
       "   'instrument_name': 'testchanneldummy',\n",
       "   'is_setpoint': False,\n",
       "   'label': 'Temperature_C',\n",
       "   'labels': ('Temperature_A',\n",
       "    'Temperature_B',\n",
       "    'Temperature_C',\n",
       "    'Temperature_D',\n",
       "    'Temperature_E',\n",
       "    'Temperature_F'),\n",
       "   'name': 'testchanneldummy_ChanC_temperature',\n",
       "   'names': ('testchanneldummy_ChanA_temperature',\n",
       "    'testchanneldummy_ChanB_temperature',\n",
       "    'testchanneldummy_ChanC_temperature',\n",
       "    'testchanneldummy_ChanD_temperature',\n",
       "    'testchanneldummy_ChanE_temperature',\n",
       "    'testchanneldummy_ChanF_temperature'),\n",
       "   'setpoint_labels': None,\n",
       "   'setpoint_names': None,\n",
       "   'setpoint_units': None,\n",
       "   'shape': (21,),\n",
       "   'unit': 'K',\n",
       "   'units': ('K', 'K', 'K', 'K', 'K', 'K')},\n",
       "  'testchanneldummy_ChanD_temperature': {'__class__': 'qcodes.data.data_array.DataArray',\n",
       "   'action_indices': (0, 3),\n",
       "   'array_id': 'testchanneldummy_ChanD_temperature',\n",
       "   'instrument': 'qcodes.tests.instrument_mocks.DummyChannelInstrument',\n",
       "   'instrument_name': 'testchanneldummy',\n",
       "   'is_setpoint': False,\n",
       "   'label': 'Temperature_D',\n",
       "   'labels': ('Temperature_A',\n",
       "    'Temperature_B',\n",
       "    'Temperature_C',\n",
       "    'Temperature_D',\n",
       "    'Temperature_E',\n",
       "    'Temperature_F'),\n",
       "   'name': 'testchanneldummy_ChanD_temperature',\n",
       "   'names': ('testchanneldummy_ChanA_temperature',\n",
       "    'testchanneldummy_ChanB_temperature',\n",
       "    'testchanneldummy_ChanC_temperature',\n",
       "    'testchanneldummy_ChanD_temperature',\n",
       "    'testchanneldummy_ChanE_temperature',\n",
       "    'testchanneldummy_ChanF_temperature'),\n",
       "   'setpoint_labels': None,\n",
       "   'setpoint_names': None,\n",
       "   'setpoint_units': None,\n",
       "   'shape': (21,),\n",
       "   'unit': 'K',\n",
       "   'units': ('K', 'K', 'K', 'K', 'K', 'K')},\n",
       "  'testchanneldummy_ChanE_temperature': {'__class__': 'qcodes.data.data_array.DataArray',\n",
       "   'action_indices': (0, 4),\n",
       "   'array_id': 'testchanneldummy_ChanE_temperature',\n",
       "   'instrument': 'qcodes.tests.instrument_mocks.DummyChannelInstrument',\n",
       "   'instrument_name': 'testchanneldummy',\n",
       "   'is_setpoint': False,\n",
       "   'label': 'Temperature_E',\n",
       "   'labels': ('Temperature_A',\n",
       "    'Temperature_B',\n",
       "    'Temperature_C',\n",
       "    'Temperature_D',\n",
       "    'Temperature_E',\n",
       "    'Temperature_F'),\n",
       "   'name': 'testchanneldummy_ChanE_temperature',\n",
       "   'names': ('testchanneldummy_ChanA_temperature',\n",
       "    'testchanneldummy_ChanB_temperature',\n",
       "    'testchanneldummy_ChanC_temperature',\n",
       "    'testchanneldummy_ChanD_temperature',\n",
       "    'testchanneldummy_ChanE_temperature',\n",
       "    'testchanneldummy_ChanF_temperature'),\n",
       "   'setpoint_labels': None,\n",
       "   'setpoint_names': None,\n",
       "   'setpoint_units': None,\n",
       "   'shape': (21,),\n",
       "   'unit': 'K',\n",
       "   'units': ('K', 'K', 'K', 'K', 'K', 'K')},\n",
       "  'testchanneldummy_ChanF_temperature': {'__class__': 'qcodes.data.data_array.DataArray',\n",
       "   'action_indices': (0, 5),\n",
       "   'array_id': 'testchanneldummy_ChanF_temperature',\n",
       "   'instrument': 'qcodes.tests.instrument_mocks.DummyChannelInstrument',\n",
       "   'instrument_name': 'testchanneldummy',\n",
       "   'is_setpoint': False,\n",
       "   'label': 'Temperature_F',\n",
       "   'labels': ('Temperature_A',\n",
       "    'Temperature_B',\n",
       "    'Temperature_C',\n",
       "    'Temperature_D',\n",
       "    'Temperature_E',\n",
       "    'Temperature_F'),\n",
       "   'name': 'testchanneldummy_ChanF_temperature',\n",
       "   'names': ('testchanneldummy_ChanA_temperature',\n",
       "    'testchanneldummy_ChanB_temperature',\n",
       "    'testchanneldummy_ChanC_temperature',\n",
       "    'testchanneldummy_ChanD_temperature',\n",
       "    'testchanneldummy_ChanE_temperature',\n",
       "    'testchanneldummy_ChanF_temperature'),\n",
       "   'setpoint_labels': None,\n",
       "   'setpoint_names': None,\n",
       "   'setpoint_units': None,\n",
       "   'shape': (21,),\n",
       "   'unit': 'K',\n",
       "   'units': ('K', 'K', 'K', 'K', 'K', 'K')}},\n",
       " 'formatter': 'qcodes.data.gnuplot_format.GNUPlotFormat',\n",
       " 'io': \"<DiskIO, base_location='/Users/jhn/src/Qcodes/docs/examples'>\",\n",
       " 'location': 'data/2017-06-06/#011_{name}_13-34-57',\n",
       " 'loop': {'__class__': 'qcodes.loops.ActiveLoop',\n",
       "  'actions': [{'__class__': 'qcodes.instrument.channel.MultiChannelInstrumentParameter',\n",
       "    'instrument': 'qcodes.tests.instrument_mocks.DummyChannelInstrument',\n",
       "    'instrument_name': 'testchanneldummy',\n",
       "    'labels': ('Temperature_A',\n",
       "     'Temperature_B',\n",
       "     'Temperature_C',\n",
       "     'Temperature_D',\n",
       "     'Temperature_E',\n",
       "     'Temperature_F'),\n",
       "    'name': 'Multi_temperature',\n",
       "    'names': ('testchanneldummy_ChanA_temperature',\n",
       "     'testchanneldummy_ChanB_temperature',\n",
       "     'testchanneldummy_ChanC_temperature',\n",
       "     'testchanneldummy_ChanD_temperature',\n",
       "     'testchanneldummy_ChanE_temperature',\n",
       "     'testchanneldummy_ChanF_temperature'),\n",
       "    'setpoint_labels': None,\n",
       "    'setpoint_names': None,\n",
       "    'setpoint_units': None,\n",
       "    'ts': None,\n",
       "    'units': ('K', 'K', 'K', 'K', 'K', 'K'),\n",
       "    'value': None}],\n",
       "  'delay': 1e-06,\n",
       "  'sweep_values': {'parameter': {'__class__': 'qcodes.instrument.parameter.ManualParameter',\n",
       "    'label': 'p1',\n",
       "    'name': 'p1',\n",
       "    'ts': None,\n",
       "    'unit': '',\n",
       "    'vals': '<Numbers -10<=v<=10>',\n",
       "    'value': None},\n",
       "   'values': [{'first': -10.0, 'last': 10.0, 'num': 21, 'type': 'linear'}]},\n",
       "  'then_actions': [],\n",
       "  'ts_end': '2017-06-06 13:34:57',\n",
       "  'ts_start': '2017-06-06 13:34:57',\n",
       "  'use_threads': False}}"
      ]
     },
     "execution_count": 18,
     "metadata": {},
     "output_type": "execute_result"
    }
   ],
   "source": [
    "sata.metadata"
   ]
  },
  {
   "cell_type": "code",
   "execution_count": 19,
   "metadata": {},
   "outputs": [
    {
     "data": {
      "text/plain": [
       "{'__class__': 'qcodes.tests.instrument_mocks.DummyChannelInstrument',\n",
       " 'functions': {},\n",
       " 'name': 'testchanneldummy',\n",
       " 'parameters': {'IDN': {'__class__': 'qcodes.instrument.parameter.StandardParameter',\n",
       "   'instrument': 'qcodes.tests.instrument_mocks.DummyChannelInstrument',\n",
       "   'instrument_name': 'testchanneldummy',\n",
       "   'label': 'IDN',\n",
       "   'name': 'IDN',\n",
       "   'ts': None,\n",
       "   'unit': '',\n",
       "   'vals': '<Anything>',\n",
       "   'value': None}},\n",
       " 'submodules': {'A': {'__class__': 'qcodes.tests.instrument_mocks.DummyChannel',\n",
       "   'functions': {},\n",
       "   'name': 'testchanneldummy_ChanA',\n",
       "   'parameters': {'temperature': {'__class__': 'qcodes.instrument.parameter.ManualParameter',\n",
       "     'instrument': 'qcodes.tests.instrument_mocks.DummyChannel',\n",
       "     'instrument_name': 'testchanneldummy_ChanA',\n",
       "     'label': 'Temperature_A',\n",
       "     'name': 'temperature',\n",
       "     'ts': '2017-06-06 13:34:53',\n",
       "     'unit': 'K',\n",
       "     'vals': '<Numbers 0<=v<=300>',\n",
       "     'value': 0}},\n",
       "   'submodules': {}},\n",
       "  'B': {'__class__': 'qcodes.tests.instrument_mocks.DummyChannel',\n",
       "   'functions': {},\n",
       "   'name': 'testchanneldummy_ChanB',\n",
       "   'parameters': {'temperature': {'__class__': 'qcodes.instrument.parameter.ManualParameter',\n",
       "     'instrument': 'qcodes.tests.instrument_mocks.DummyChannel',\n",
       "     'instrument_name': 'testchanneldummy_ChanB',\n",
       "     'label': 'Temperature_B',\n",
       "     'name': 'temperature',\n",
       "     'ts': '2017-06-06 13:34:53',\n",
       "     'unit': 'K',\n",
       "     'vals': '<Numbers 0<=v<=300>',\n",
       "     'value': 0}},\n",
       "   'submodules': {}},\n",
       "  'C': {'__class__': 'qcodes.tests.instrument_mocks.DummyChannel',\n",
       "   'functions': {},\n",
       "   'name': 'testchanneldummy_ChanC',\n",
       "   'parameters': {'temperature': {'__class__': 'qcodes.instrument.parameter.ManualParameter',\n",
       "     'instrument': 'qcodes.tests.instrument_mocks.DummyChannel',\n",
       "     'instrument_name': 'testchanneldummy_ChanC',\n",
       "     'label': 'Temperature_C',\n",
       "     'name': 'temperature',\n",
       "     'ts': '2017-06-06 13:34:53',\n",
       "     'unit': 'K',\n",
       "     'vals': '<Numbers 0<=v<=300>',\n",
       "     'value': 0}},\n",
       "   'submodules': {}},\n",
       "  'D': {'__class__': 'qcodes.tests.instrument_mocks.DummyChannel',\n",
       "   'functions': {},\n",
       "   'name': 'testchanneldummy_ChanD',\n",
       "   'parameters': {'temperature': {'__class__': 'qcodes.instrument.parameter.ManualParameter',\n",
       "     'instrument': 'qcodes.tests.instrument_mocks.DummyChannel',\n",
       "     'instrument_name': 'testchanneldummy_ChanD',\n",
       "     'label': 'Temperature_D',\n",
       "     'name': 'temperature',\n",
       "     'ts': '2017-06-06 13:34:53',\n",
       "     'unit': 'K',\n",
       "     'vals': '<Numbers 0<=v<=300>',\n",
       "     'value': 0}},\n",
       "   'submodules': {}},\n",
       "  'E': {'__class__': 'qcodes.tests.instrument_mocks.DummyChannel',\n",
       "   'functions': {},\n",
       "   'name': 'testchanneldummy_ChanE',\n",
       "   'parameters': {'temperature': {'__class__': 'qcodes.instrument.parameter.ManualParameter',\n",
       "     'instrument': 'qcodes.tests.instrument_mocks.DummyChannel',\n",
       "     'instrument_name': 'testchanneldummy_ChanE',\n",
       "     'label': 'Temperature_E',\n",
       "     'name': 'temperature',\n",
       "     'ts': '2017-06-06 13:34:53',\n",
       "     'unit': 'K',\n",
       "     'vals': '<Numbers 0<=v<=300>',\n",
       "     'value': 0}},\n",
       "   'submodules': {}},\n",
       "  'F': {'__class__': 'qcodes.tests.instrument_mocks.DummyChannel',\n",
       "   'functions': {},\n",
       "   'name': 'testchanneldummy_ChanF',\n",
       "   'parameters': {'temperature': {'__class__': 'qcodes.instrument.parameter.ManualParameter',\n",
       "     'instrument': 'qcodes.tests.instrument_mocks.DummyChannel',\n",
       "     'instrument_name': 'testchanneldummy_ChanF',\n",
       "     'label': 'Temperature_F',\n",
       "     'name': 'temperature',\n",
       "     'ts': '2017-06-06 13:34:53',\n",
       "     'unit': 'K',\n",
       "     'vals': '<Numbers 0<=v<=300>',\n",
       "     'value': 0}},\n",
       "   'submodules': {}},\n",
       "  'channels': {'__class__': 'qcodes.instrument.channel.ChannelList',\n",
       "   'snapshotable': False}}}"
      ]
     },
     "execution_count": 19,
     "metadata": {},
     "output_type": "execute_result"
    }
   ],
   "source": [
    "instrument.snapshot()"
   ]
  },
  {
   "cell_type": "code",
   "execution_count": 20,
   "metadata": {},
   "outputs": [
    {
     "data": {
      "text/plain": [
       "{'temperature': <qcodes.instrument.parameter.ManualParameter: temperature at 4524024944>}"
      ]
     },
     "execution_count": 20,
     "metadata": {},
     "output_type": "execute_result"
    }
   ],
   "source": [
    "instrument.channels.parameters"
   ]
  },
  {
   "cell_type": "code",
   "execution_count": 21,
   "metadata": {},
   "outputs": [
    {
     "data": {
      "text/plain": [
       "qcodes.tests.instrument_mocks.DummyChannel"
      ]
     },
     "execution_count": 21,
     "metadata": {},
     "output_type": "execute_result"
    }
   ],
   "source": [
    "instrument.channels._chan_type"
   ]
  },
  {
   "cell_type": "code",
   "execution_count": 22,
   "metadata": {},
   "outputs": [
    {
     "data": {
      "text/plain": [
       "{'temperature': <qcodes.instrument.parameter.ManualParameter: temperature at 4524024944>}"
      ]
     },
     "execution_count": 22,
     "metadata": {},
     "output_type": "execute_result"
    }
   ],
   "source": [
    "instrument.A.parameters"
   ]
  },
  {
   "cell_type": "code",
   "execution_count": 23,
   "metadata": {},
   "outputs": [
    {
     "ename": "NameError",
     "evalue": "name 'channels' is not defined",
     "output_type": "error",
     "traceback": [
      "\u001b[0;31m---------------------------------------------------------------------------\u001b[0m",
      "\u001b[0;31mNameError\u001b[0m                                 Traceback (most recent call last)",
      "\u001b[0;32m<ipython-input-23-638ad8f2f3ef>\u001b[0m in \u001b[0;36m<module>\u001b[0;34m()\u001b[0m\n\u001b[0;32m----> 1\u001b[0;31m \u001b[0minstrument\u001b[0m\u001b[0;34m.\u001b[0m\u001b[0mchannels\u001b[0m\u001b[0;34m.\u001b[0m\u001b[0mextend\u001b[0m\u001b[0;34m(\u001b[0m\u001b[0mchannels\u001b[0m\u001b[0;34m)\u001b[0m\u001b[0;34m\u001b[0m\u001b[0m\n\u001b[0m",
      "\u001b[0;31mNameError\u001b[0m: name 'channels' is not defined"
     ]
    }
   ],
   "source": [
    "instrument.channels.extend(channels)"
   ]
  },
  {
   "cell_type": "code",
   "execution_count": 24,
   "metadata": {},
   "outputs": [
    {
     "data": {
      "text/plain": [
       "<generator object <genexpr> at 0x10da5cf68>"
      ]
     },
     "execution_count": 24,
     "metadata": {},
     "output_type": "execute_result"
    }
   ],
   "source": [
    "(DummyChannel(instrument, name, name) for name in ['g', 'h', 'i'])"
   ]
  },
  {
   "cell_type": "code",
   "execution_count": 25,
   "metadata": {},
   "outputs": [
    {
     "data": {
      "text/plain": [
       "[<DummyChannel: testchanneldummy_g of DummyChannelInstrument: testchanneldummy>,\n",
       " <DummyChannel: testchanneldummy_h of DummyChannelInstrument: testchanneldummy>,\n",
       " <DummyChannel: testchanneldummy_i of DummyChannelInstrument: testchanneldummy>]"
      ]
     },
     "execution_count": 25,
     "metadata": {},
     "output_type": "execute_result"
    }
   ],
   "source": [
    "list((DummyChannel(instrument, name, name) for name in ['g', 'h', 'i']))"
   ]
  },
  {
   "cell_type": "code",
   "execution_count": 26,
   "metadata": {
    "collapsed": true
   },
   "outputs": [],
   "source": [
    "instrument.channels.extend((DummyChannel(instrument, name, name) for name in ['g', 'h', 'i']))"
   ]
  },
  {
   "cell_type": "code",
   "execution_count": 27,
   "metadata": {},
   "outputs": [
    {
     "data": {
      "text/plain": [
       "ChannelList(<DummyChannelInstrument: testchanneldummy>, DummyChannel, [<DummyChannel: testchanneldummy_ChanA of DummyChannelInstrument: testchanneldummy>, <DummyChannel: testchanneldummy_ChanB of DummyChannelInstrument: testchanneldummy>, <DummyChannel: testchanneldummy_ChanC of DummyChannelInstrument: testchanneldummy>, <DummyChannel: testchanneldummy_ChanD of DummyChannelInstrument: testchanneldummy>, <DummyChannel: testchanneldummy_ChanE of DummyChannelInstrument: testchanneldummy>, <DummyChannel: testchanneldummy_ChanF of DummyChannelInstrument: testchanneldummy>, <DummyChannel: testchanneldummy_g of DummyChannelInstrument: testchanneldummy>, <DummyChannel: testchanneldummy_h of DummyChannelInstrument: testchanneldummy>, <DummyChannel: testchanneldummy_i of DummyChannelInstrument: testchanneldummy>])"
      ]
     },
     "execution_count": 27,
     "metadata": {},
     "output_type": "execute_result"
    }
   ],
   "source": [
    "instrument.channels"
   ]
  },
  {
   "cell_type": "code",
   "execution_count": 28,
   "metadata": {},
   "outputs": [
    {
     "data": {
      "text/plain": [
       "{'__class__': 'qcodes.instrument.channel.ChannelList', 'snapshotable': False}"
      ]
     },
     "execution_count": 28,
     "metadata": {},
     "output_type": "execute_result"
    }
   ],
   "source": [
    "instrument.channels.snapshot_base()"
   ]
  },
  {
   "cell_type": "code",
   "execution_count": 29,
   "metadata": {
    "collapsed": true
   },
   "outputs": [],
   "source": [
    "instrument.channels._snapshotable = True"
   ]
  },
  {
   "cell_type": "code",
   "execution_count": 30,
   "metadata": {},
   "outputs": [
    {
     "data": {
      "text/plain": [
       "{'__class__': 'qcodes.tests.instrument_mocks.DummyChannelInstrument',\n",
       " 'functions': {},\n",
       " 'name': 'testchanneldummy',\n",
       " 'parameters': {'IDN': {'__class__': 'qcodes.instrument.parameter.StandardParameter',\n",
       "   'instrument': 'qcodes.tests.instrument_mocks.DummyChannelInstrument',\n",
       "   'instrument_name': 'testchanneldummy',\n",
       "   'label': 'IDN',\n",
       "   'name': 'IDN',\n",
       "   'ts': None,\n",
       "   'unit': '',\n",
       "   'vals': '<Anything>',\n",
       "   'value': None}},\n",
       " 'submodules': {'A': {'__class__': 'qcodes.tests.instrument_mocks.DummyChannel',\n",
       "   'functions': {},\n",
       "   'name': 'testchanneldummy_ChanA',\n",
       "   'parameters': {'temperature': {'__class__': 'qcodes.instrument.parameter.ManualParameter',\n",
       "     'instrument': 'qcodes.tests.instrument_mocks.DummyChannel',\n",
       "     'instrument_name': 'testchanneldummy_ChanA',\n",
       "     'label': 'Temperature_A',\n",
       "     'name': 'temperature',\n",
       "     'ts': '2017-06-06 13:34:53',\n",
       "     'unit': 'K',\n",
       "     'vals': '<Numbers 0<=v<=300>',\n",
       "     'value': 0}},\n",
       "   'submodules': {}},\n",
       "  'B': {'__class__': 'qcodes.tests.instrument_mocks.DummyChannel',\n",
       "   'functions': {},\n",
       "   'name': 'testchanneldummy_ChanB',\n",
       "   'parameters': {'temperature': {'__class__': 'qcodes.instrument.parameter.ManualParameter',\n",
       "     'instrument': 'qcodes.tests.instrument_mocks.DummyChannel',\n",
       "     'instrument_name': 'testchanneldummy_ChanB',\n",
       "     'label': 'Temperature_B',\n",
       "     'name': 'temperature',\n",
       "     'ts': '2017-06-06 13:34:53',\n",
       "     'unit': 'K',\n",
       "     'vals': '<Numbers 0<=v<=300>',\n",
       "     'value': 0}},\n",
       "   'submodules': {}},\n",
       "  'C': {'__class__': 'qcodes.tests.instrument_mocks.DummyChannel',\n",
       "   'functions': {},\n",
       "   'name': 'testchanneldummy_ChanC',\n",
       "   'parameters': {'temperature': {'__class__': 'qcodes.instrument.parameter.ManualParameter',\n",
       "     'instrument': 'qcodes.tests.instrument_mocks.DummyChannel',\n",
       "     'instrument_name': 'testchanneldummy_ChanC',\n",
       "     'label': 'Temperature_C',\n",
       "     'name': 'temperature',\n",
       "     'ts': '2017-06-06 13:34:53',\n",
       "     'unit': 'K',\n",
       "     'vals': '<Numbers 0<=v<=300>',\n",
       "     'value': 0}},\n",
       "   'submodules': {}},\n",
       "  'D': {'__class__': 'qcodes.tests.instrument_mocks.DummyChannel',\n",
       "   'functions': {},\n",
       "   'name': 'testchanneldummy_ChanD',\n",
       "   'parameters': {'temperature': {'__class__': 'qcodes.instrument.parameter.ManualParameter',\n",
       "     'instrument': 'qcodes.tests.instrument_mocks.DummyChannel',\n",
       "     'instrument_name': 'testchanneldummy_ChanD',\n",
       "     'label': 'Temperature_D',\n",
       "     'name': 'temperature',\n",
       "     'ts': '2017-06-06 13:34:53',\n",
       "     'unit': 'K',\n",
       "     'vals': '<Numbers 0<=v<=300>',\n",
       "     'value': 0}},\n",
       "   'submodules': {}},\n",
       "  'E': {'__class__': 'qcodes.tests.instrument_mocks.DummyChannel',\n",
       "   'functions': {},\n",
       "   'name': 'testchanneldummy_ChanE',\n",
       "   'parameters': {'temperature': {'__class__': 'qcodes.instrument.parameter.ManualParameter',\n",
       "     'instrument': 'qcodes.tests.instrument_mocks.DummyChannel',\n",
       "     'instrument_name': 'testchanneldummy_ChanE',\n",
       "     'label': 'Temperature_E',\n",
       "     'name': 'temperature',\n",
       "     'ts': '2017-06-06 13:34:53',\n",
       "     'unit': 'K',\n",
       "     'vals': '<Numbers 0<=v<=300>',\n",
       "     'value': 0}},\n",
       "   'submodules': {}},\n",
       "  'F': {'__class__': 'qcodes.tests.instrument_mocks.DummyChannel',\n",
       "   'functions': {},\n",
       "   'name': 'testchanneldummy_ChanF',\n",
       "   'parameters': {'temperature': {'__class__': 'qcodes.instrument.parameter.ManualParameter',\n",
       "     'instrument': 'qcodes.tests.instrument_mocks.DummyChannel',\n",
       "     'instrument_name': 'testchanneldummy_ChanF',\n",
       "     'label': 'Temperature_F',\n",
       "     'name': 'temperature',\n",
       "     'ts': '2017-06-06 13:34:53',\n",
       "     'unit': 'K',\n",
       "     'vals': '<Numbers 0<=v<=300>',\n",
       "     'value': 0}},\n",
       "   'submodules': {}},\n",
       "  'channels': {'__class__': 'qcodes.instrument.channel.ChannelList',\n",
       "   'channels': {'testchanneldummy_ChanA': {'__class__': 'qcodes.tests.instrument_mocks.DummyChannel',\n",
       "     'functions': {},\n",
       "     'name': 'testchanneldummy_ChanA',\n",
       "     'parameters': {'temperature': {'__class__': 'qcodes.instrument.parameter.ManualParameter',\n",
       "       'instrument': 'qcodes.tests.instrument_mocks.DummyChannel',\n",
       "       'instrument_name': 'testchanneldummy_ChanA',\n",
       "       'label': 'Temperature_A',\n",
       "       'name': 'temperature',\n",
       "       'ts': '2017-06-06 13:34:53',\n",
       "       'unit': 'K',\n",
       "       'vals': '<Numbers 0<=v<=300>',\n",
       "       'value': 0}},\n",
       "     'submodules': {}},\n",
       "    'testchanneldummy_ChanB': {'__class__': 'qcodes.tests.instrument_mocks.DummyChannel',\n",
       "     'functions': {},\n",
       "     'name': 'testchanneldummy_ChanB',\n",
       "     'parameters': {'temperature': {'__class__': 'qcodes.instrument.parameter.ManualParameter',\n",
       "       'instrument': 'qcodes.tests.instrument_mocks.DummyChannel',\n",
       "       'instrument_name': 'testchanneldummy_ChanB',\n",
       "       'label': 'Temperature_B',\n",
       "       'name': 'temperature',\n",
       "       'ts': '2017-06-06 13:34:53',\n",
       "       'unit': 'K',\n",
       "       'vals': '<Numbers 0<=v<=300>',\n",
       "       'value': 0}},\n",
       "     'submodules': {}},\n",
       "    'testchanneldummy_ChanC': {'__class__': 'qcodes.tests.instrument_mocks.DummyChannel',\n",
       "     'functions': {},\n",
       "     'name': 'testchanneldummy_ChanC',\n",
       "     'parameters': {'temperature': {'__class__': 'qcodes.instrument.parameter.ManualParameter',\n",
       "       'instrument': 'qcodes.tests.instrument_mocks.DummyChannel',\n",
       "       'instrument_name': 'testchanneldummy_ChanC',\n",
       "       'label': 'Temperature_C',\n",
       "       'name': 'temperature',\n",
       "       'ts': '2017-06-06 13:34:53',\n",
       "       'unit': 'K',\n",
       "       'vals': '<Numbers 0<=v<=300>',\n",
       "       'value': 0}},\n",
       "     'submodules': {}},\n",
       "    'testchanneldummy_ChanD': {'__class__': 'qcodes.tests.instrument_mocks.DummyChannel',\n",
       "     'functions': {},\n",
       "     'name': 'testchanneldummy_ChanD',\n",
       "     'parameters': {'temperature': {'__class__': 'qcodes.instrument.parameter.ManualParameter',\n",
       "       'instrument': 'qcodes.tests.instrument_mocks.DummyChannel',\n",
       "       'instrument_name': 'testchanneldummy_ChanD',\n",
       "       'label': 'Temperature_D',\n",
       "       'name': 'temperature',\n",
       "       'ts': '2017-06-06 13:34:53',\n",
       "       'unit': 'K',\n",
       "       'vals': '<Numbers 0<=v<=300>',\n",
       "       'value': 0}},\n",
       "     'submodules': {}},\n",
       "    'testchanneldummy_ChanE': {'__class__': 'qcodes.tests.instrument_mocks.DummyChannel',\n",
       "     'functions': {},\n",
       "     'name': 'testchanneldummy_ChanE',\n",
       "     'parameters': {'temperature': {'__class__': 'qcodes.instrument.parameter.ManualParameter',\n",
       "       'instrument': 'qcodes.tests.instrument_mocks.DummyChannel',\n",
       "       'instrument_name': 'testchanneldummy_ChanE',\n",
       "       'label': 'Temperature_E',\n",
       "       'name': 'temperature',\n",
       "       'ts': '2017-06-06 13:34:53',\n",
       "       'unit': 'K',\n",
       "       'vals': '<Numbers 0<=v<=300>',\n",
       "       'value': 0}},\n",
       "     'submodules': {}},\n",
       "    'testchanneldummy_ChanF': {'__class__': 'qcodes.tests.instrument_mocks.DummyChannel',\n",
       "     'functions': {},\n",
       "     'name': 'testchanneldummy_ChanF',\n",
       "     'parameters': {'temperature': {'__class__': 'qcodes.instrument.parameter.ManualParameter',\n",
       "       'instrument': 'qcodes.tests.instrument_mocks.DummyChannel',\n",
       "       'instrument_name': 'testchanneldummy_ChanF',\n",
       "       'label': 'Temperature_F',\n",
       "       'name': 'temperature',\n",
       "       'ts': '2017-06-06 13:34:53',\n",
       "       'unit': 'K',\n",
       "       'vals': '<Numbers 0<=v<=300>',\n",
       "       'value': 0}},\n",
       "     'submodules': {}},\n",
       "    'testchanneldummy_g': {'__class__': 'qcodes.tests.instrument_mocks.DummyChannel',\n",
       "     'functions': {},\n",
       "     'name': 'testchanneldummy_g',\n",
       "     'parameters': {'temperature': {'__class__': 'qcodes.instrument.parameter.ManualParameter',\n",
       "       'instrument': 'qcodes.tests.instrument_mocks.DummyChannel',\n",
       "       'instrument_name': 'testchanneldummy_g',\n",
       "       'label': 'Temperature_g',\n",
       "       'name': 'temperature',\n",
       "       'ts': '2017-06-06 13:34:59',\n",
       "       'unit': 'K',\n",
       "       'vals': '<Numbers 0<=v<=300>',\n",
       "       'value': 0}},\n",
       "     'submodules': {}},\n",
       "    'testchanneldummy_h': {'__class__': 'qcodes.tests.instrument_mocks.DummyChannel',\n",
       "     'functions': {},\n",
       "     'name': 'testchanneldummy_h',\n",
       "     'parameters': {'temperature': {'__class__': 'qcodes.instrument.parameter.ManualParameter',\n",
       "       'instrument': 'qcodes.tests.instrument_mocks.DummyChannel',\n",
       "       'instrument_name': 'testchanneldummy_h',\n",
       "       'label': 'Temperature_h',\n",
       "       'name': 'temperature',\n",
       "       'ts': '2017-06-06 13:34:59',\n",
       "       'unit': 'K',\n",
       "       'vals': '<Numbers 0<=v<=300>',\n",
       "       'value': 0}},\n",
       "     'submodules': {}},\n",
       "    'testchanneldummy_i': {'__class__': 'qcodes.tests.instrument_mocks.DummyChannel',\n",
       "     'functions': {},\n",
       "     'name': 'testchanneldummy_i',\n",
       "     'parameters': {'temperature': {'__class__': 'qcodes.instrument.parameter.ManualParameter',\n",
       "       'instrument': 'qcodes.tests.instrument_mocks.DummyChannel',\n",
       "       'instrument_name': 'testchanneldummy_i',\n",
       "       'label': 'Temperature_i',\n",
       "       'name': 'temperature',\n",
       "       'ts': '2017-06-06 13:34:59',\n",
       "       'unit': 'K',\n",
       "       'vals': '<Numbers 0<=v<=300>',\n",
       "       'value': 0}},\n",
       "     'submodules': {}}},\n",
       "   'snapshotable': True}}}"
      ]
     },
     "execution_count": 30,
     "metadata": {},
     "output_type": "execute_result"
    }
   ],
   "source": [
    "instrument.snapshot()"
   ]
  },
  {
   "cell_type": "code",
   "execution_count": 31,
   "metadata": {},
   "outputs": [
    {
     "data": {
      "text/plain": [
       "{'IDN': <qcodes.instrument.parameter.StandardParameter: IDN at 4450670800>}"
      ]
     },
     "execution_count": 31,
     "metadata": {},
     "output_type": "execute_result"
    }
   ],
   "source": [
    "instrument.parameters"
   ]
  },
  {
   "cell_type": "code",
   "execution_count": 32,
   "metadata": {},
   "outputs": [
    {
     "data": {
      "text/plain": [
       "{'temperature': <qcodes.instrument.parameter.ManualParameter: temperature at 4524024944>}"
      ]
     },
     "execution_count": 32,
     "metadata": {},
     "output_type": "execute_result"
    }
   ],
   "source": [
    "instrument.channels.parameters"
   ]
  },
  {
   "cell_type": "code",
   "execution_count": 33,
   "metadata": {},
   "outputs": [
    {
     "data": {
      "text/plain": [
       "{'temperature': <qcodes.instrument.parameter.ManualParameter: temperature at 4524024944>}"
      ]
     },
     "execution_count": 33,
     "metadata": {},
     "output_type": "execute_result"
    }
   ],
   "source": [
    "instrument.A.parameters"
   ]
  },
  {
   "cell_type": "code",
   "execution_count": 36,
   "metadata": {},
   "outputs": [
    {
     "data": {
      "text/plain": [
       "'Temperature_A'"
      ]
     },
     "execution_count": 36,
     "metadata": {},
     "output_type": "execute_result"
    }
   ],
   "source": [
    "instrument.channels.parameters['temperature']"
   ]
  },
  {
   "cell_type": "code",
   "execution_count": 37,
   "metadata": {},
   "outputs": [
    {
     "data": {
      "text/plain": [
       "True"
      ]
     },
     "execution_count": 37,
     "metadata": {},
     "output_type": "execute_result"
    }
   ],
   "source": [
    "'temperature' in instrument.channels.parameters"
   ]
  },
  {
   "cell_type": "code",
   "execution_count": 38,
   "metadata": {},
   "outputs": [
    {
     "data": {
      "text/plain": [
       "1"
      ]
     },
     "execution_count": 38,
     "metadata": {},
     "output_type": "execute_result"
    }
   ],
   "source": [
    "len(instrument.channels.parameters)"
   ]
  },
  {
   "cell_type": "code",
   "execution_count": null,
   "metadata": {
    "collapsed": true
   },
   "outputs": [],
   "source": []
  }
 ],
 "metadata": {
  "kernelspec": {
   "display_name": "Python 3",
   "language": "python",
   "name": "python3"
  },
  "language_info": {
   "codemirror_mode": {
    "name": "ipython",
    "version": 3
   },
   "file_extension": ".py",
   "mimetype": "text/x-python",
   "name": "python",
   "nbconvert_exporter": "python",
   "pygments_lexer": "ipython3",
   "version": "3.5.3"
  }
 },
 "nbformat": 4,
 "nbformat_minor": 2
}
