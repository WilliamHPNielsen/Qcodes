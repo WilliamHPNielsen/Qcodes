{
 "cells": [
  {
   "cell_type": "markdown",
   "metadata": {},
   "source": [
    "### Blinker signals to couple QCoDeS StandardParameters\n",
    "\n",
    "Here is a small example on how it could be done."
   ]
  },
  {
   "cell_type": "code",
   "execution_count": 1,
   "metadata": {
    "collapsed": true
   },
   "outputs": [],
   "source": [
    "from blinker import signal\n",
    "from qcodes.tests.instrument_mocks import DummyInstrument\n",
    "from qcodes.instrument.parameter import StandardParameter\n",
    "from functools import partial"
   ]
  },
  {
   "cell_type": "markdown",
   "metadata": {},
   "source": [
    "Rather than actually extending the StandardParameter class, we'll just subclass it for now. "
   ]
  },
  {
   "cell_type": "code",
   "execution_count": 2,
   "metadata": {
    "collapsed": true
   },
   "outputs": [],
   "source": [
    "class SignallingParameter(StandardParameter):\n",
    "    \"\"\"\n",
    "    Development extension of StandardParameter to emit a signal\n",
    "    on being set and to accept subscriptions ot other parameters\n",
    "    \"\"\"\n",
    "\n",
    "    def __init__(self, name, label=None, unit=None,\n",
    "                 set_cmd=None, get_cmd=None,\n",
    "                 dependencies=None, **kwargs):\n",
    "        \"\"\"\n",
    "        dependencies is a dict\n",
    "        {signal: function}\n",
    "        \"\"\"\n",
    "        super().__init__(name, label=label, unit=unit,\n",
    "                         set_cmd=set_cmd, get_cmd=get_cmd, **kwargs)\n",
    "\n",
    "        self.wasset = signal('{}-was-set'.format(self.name))\n",
    "        self.set = self.make_set_emit()\n",
    "\n",
    "        if dependencies is not None:\n",
    "\n",
    "            self._depfuns = [None]\n",
    "\n",
    "            for ii, (sign, func) in enumerate(dependencies.items()):\n",
    "                self._depfuns[ii] = partial(func, self)\n",
    "                sign.connect(self._depfuns[ii])\n",
    "\n",
    "    def make_set_emit(self):\n",
    "        def wrapper(arg):\n",
    "            self._validate_and_set(arg)\n",
    "            self.wasset.send(self, val=arg)  # First arg must have .name\n",
    "        return wrapper"
   ]
  },
  {
   "cell_type": "markdown",
   "metadata": {},
   "source": [
    "The idea is then that we, when adding parameters to the instrument, provide a dict of signals and functions."
   ]
  },
  {
   "cell_type": "markdown",
   "metadata": {},
   "source": [
    "#### Example 1: A voltage and a voltage range\n",
    "\n",
    "We have a DAC with a voltage and a voltage range. When the voltage range is set, the physical voltage might be truncated. We'll make the parameters reflect this."
   ]
  },
  {
   "cell_type": "code",
   "execution_count": 3,
   "metadata": {
    "collapsed": false
   },
   "outputs": [],
   "source": [
    "dac = DummyInstrument(name='dac')\n",
    "\n",
    "dac.add_parameter('voltage_range',\n",
    "                  label='Vrange',\n",
    "                  unit='V',\n",
    "                  set_cmd=lambda x: x,\n",
    "                  parameter_class=SignallingParameter)\n",
    "\n",
    "# The user must supply the logic (how could we possibly guess it?)\n",
    "# The call signature should always be this\n",
    "def check_with_range(inst, sender, **kw):\n",
    "    \"\"\"\n",
    "    Function to check if voltage is out of range and if so truncate\n",
    "    accordingly\n",
    "    \"\"\"\n",
    "    value = kw['val']\n",
    "    if inst.get_latest() > value:\n",
    "        inst.set(value)  # perhaps inst._save_val would suffice\n",
    "        \n",
    "dac.add_parameter('volt',\n",
    "                  label='Voltage',\n",
    "                  unit='V',\n",
    "                  set_cmd=lambda x: x,  # This should of course be a custom function checking voltage_range\n",
    "                  dependencies={dac.voltage_range.wasset:  # <---- HERE!\n",
    "                                check_with_range},\n",
    "                  parameter_class=SignallingParameter)"
   ]
  },
  {
   "cell_type": "code",
   "execution_count": 4,
   "metadata": {
    "collapsed": false
   },
   "outputs": [
    {
     "name": "stdout",
     "output_type": "stream",
     "text": [
      "Voltage is 10\n",
      "Voltage is 5\n",
      "Voltage is 5\n"
     ]
    }
   ],
   "source": [
    "# Now things work as expected\n",
    "dac.volt(10)\n",
    "print('Voltage is {}'.format(dac.volt.get_latest()))\n",
    "dac.voltage_range(5)\n",
    "print('Voltage is {}'.format(dac.volt.get_latest()))\n",
    "dac.voltage_range(7)\n",
    "print('Voltage is {}'.format(dac.volt.get_latest()))"
   ]
  },
  {
   "cell_type": "code",
   "execution_count": null,
   "metadata": {
    "collapsed": true
   },
   "outputs": [],
   "source": []
  }
 ],
 "metadata": {
  "kernelspec": {
   "display_name": "Python 3",
   "language": "python",
   "name": "python3"
  },
  "language_info": {
   "codemirror_mode": {
    "name": "ipython",
    "version": 3
   },
   "file_extension": ".py",
   "mimetype": "text/x-python",
   "name": "python",
   "nbconvert_exporter": "python",
   "pygments_lexer": "ipython3",
   "version": "3.5.3"
  }
 },
 "nbformat": 4,
 "nbformat_minor": 2
}
