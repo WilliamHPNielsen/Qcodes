{
 "cells": [
  {
   "cell_type": "markdown",
   "metadata": {},
   "source": [
    "## Signal Chain in QCoDeS\n",
    "\n",
    "The purpose of the signal chain is to eventually make it possible to account for modifications made to the instrument output after the signal leaves the instrument, e.g. attenuation along the signal line.\n",
    "\n",
    "This notebook shows how to add a signal chain to a StandardParameter of a dummy instrument."
   ]
  },
  {
   "cell_type": "code",
   "execution_count": 1,
   "metadata": {
    "collapsed": false
   },
   "outputs": [],
   "source": [
    "import qcodes as qc\n",
    "from qcodes.instrument.parameter import StandardParameter\n",
    "from qcodes.instrument.signalchain import addToSignalChain"
   ]
  },
  {
   "cell_type": "code",
   "execution_count": 2,
   "metadata": {
    "collapsed": true
   },
   "outputs": [],
   "source": [
    "from qcodes.tests.instrument_mocks import DummyInstrument\n",
    "import numpy as np\n"
   ]
  },
  {
   "cell_type": "code",
   "execution_count": 3,
   "metadata": {
    "collapsed": false
   },
   "outputs": [],
   "source": [
    "# Set up two dummy instruments and give them a parameter each\n",
    "dac = DummyInstrument(name='dac')\n",
    "dmm = DummyInstrument(name='dmm')\n",
    "\n",
    "dmm.add_parameter('voltage',\n",
    "                  set_cmd=lambda x: x,\n",
    "                  get_cmd=lambda : np.random.randn(),  # random return values for good looks\n",
    "                  unit='V')\n",
    "\n",
    "\n",
    "dac.add_parameter('voltage',\n",
    "                  set_cmd=lambda x: x,\n",
    "                  unit='V')"
   ]
  },
  {
   "cell_type": "code",
   "execution_count": 4,
   "metadata": {
    "collapsed": false
   },
   "outputs": [
    {
     "name": "stdout",
     "output_type": "stream",
     "text": [
      "DataSet:\n",
      "   location = 'data/2017-04-07/#001_testsweep_10-05-28'\n",
      "   <Type>   | <array_id>      | <array.name> | <array.shape>\n",
      "   Setpoint | dac_voltage_set | voltage      | (21,)\n",
      "   Measured | dmm_voltage     | voltage      | (21,)\n",
      "started at 2017-04-07 10:05:31\n"
     ]
    }
   ],
   "source": [
    "# A loop of the 'dac' voltage whilst reading from the 'dmm' will return noise centred on zero with an std of 1\n",
    "loop = qc.Loop(dac.voltage.sweep(0, 1, 0.05), delay=0.01).each(dmm.voltage)\n",
    "data = loop.get_data_set(name='testsweep')\n",
    "plot = qc.QtPlot()\n",
    "plot.add(data.dmm_voltage)\n",
    "_ = loop.with_bg_task(plot.update, plot.save).run()"
   ]
  },
  {
   "cell_type": "markdown",
   "metadata": {},
   "source": [
    "### Add to signal chain\n",
    "\n",
    "We now add an offset, a multiplier, and a second offset."
   ]
  },
  {
   "cell_type": "code",
   "execution_count": 5,
   "metadata": {
    "collapsed": false
   },
   "outputs": [],
   "source": [
    "addToSignalChain(dmm.voltage, 'offset', 48)\n",
    "addToSignalChain(dmm.voltage, 'multiplier', 1e-3)\n",
    "addToSignalChain(dmm.voltage, 'offset', 1)"
   ]
  },
  {
   "cell_type": "code",
   "execution_count": 6,
   "metadata": {
    "collapsed": false
   },
   "outputs": [
    {
     "data": {
      "text/plain": [
       "[('offset', 48), ('multiplier', 0.001), ('offset', 1)]"
      ]
     },
     "execution_count": 6,
     "metadata": {},
     "output_type": "execute_result"
    }
   ],
   "source": [
    "# we can see the signal chain in the 'signalchain' attribute\n",
    "dmm.voltage.signalchain"
   ]
  },
  {
   "cell_type": "code",
   "execution_count": 7,
   "metadata": {
    "collapsed": false,
    "scrolled": false
   },
   "outputs": [
    {
     "name": "stdout",
     "output_type": "stream",
     "text": [
      "DataSet:\n",
      "   location = 'data/2017-04-07/#002_testsweep_10-05-36'\n",
      "   <Type>   | <array_id>      | <array.name> | <array.shape>\n",
      "   Setpoint | dac_voltage_set | voltage      | (21,)\n",
      "   Measured | dmm_voltage     | voltage      | (21,)\n",
      "started at 2017-04-07 10:05:37\n"
     ]
    }
   ],
   "source": [
    "# Performing the same loop again will return noise centred on 1.048 with an std of 1e-3\n",
    "loop = qc.Loop(dac.voltage.sweep(0, 1, 0.05), delay=0.01).each(dmm.voltage)\n",
    "data = loop.get_data_set(name='testsweep')\n",
    "plot = qc.QtPlot()\n",
    "plot.add(data.dmm_voltage)\n",
    "_ = loop.with_bg_task(plot.update, plot.save).run()"
   ]
  },
  {
   "cell_type": "markdown",
   "metadata": {},
   "source": [
    "## Metadata\n",
    "\n",
    "In the `snapshot.json` metadata, the sinhave the following entry:\n",
    "\n",
    "```\n",
    "        \"dmm_voltage\": {\n",
    "            \"__class__\": \"qcodes.data.data_array.DataArray\",\n",
    "            \"action_indices\": [\n",
    "                0\n",
    "            ],\n",
    "            \"array_id\": \"dmm_voltage\",\n",
    "            \"instrument\": \"qcodes.tests.instrument_mocks.DummyInstrument\",\n",
    "            \"instrument_name\": \"dmm\",\n",
    "            \"is_setpoint\": false,\n",
    "            \"label\": \"voltage\",\n",
    "            \"name\": \"voltage\",\n",
    "            \"shape\": [\n",
    "                21\n",
    "            ],\n",
    "            \"signalchain\": [\n",
    "                [\n",
    "                    \"offset\",\n",
    "                    48\n",
    "                ],\n",
    "                [\n",
    "                    \"multiplier\",\n",
    "                    0.001\n",
    "                ],\n",
    "                [\n",
    "                    \"offset\",\n",
    "                    1\n",
    "                ]\n",
    "            ],\n",
    "            \"unit\": \"V\",\n",
    "            \"vals\": \"<Numbers>\"\n",
    "        }\n",
    "```"
   ]
  },
  {
   "cell_type": "markdown",
   "metadata": {
    "collapsed": true
   },
   "source": [
    "## NB: \n",
    "\n",
    "It is currently only possible to remove from the signal chain be restarting the notebook, but an update is coming soon."
   ]
  },
  {
   "cell_type": "code",
   "execution_count": null,
   "metadata": {
    "collapsed": true
   },
   "outputs": [],
   "source": []
  }
 ],
 "metadata": {
  "kernelspec": {
   "display_name": "Python 3",
   "language": "python",
   "name": "python3"
  },
  "language_info": {
   "codemirror_mode": {
    "name": "ipython",
    "version": 3
   },
   "file_extension": ".py",
   "mimetype": "text/x-python",
   "name": "python",
   "nbconvert_exporter": "python",
   "pygments_lexer": "ipython3",
   "version": "3.5.3"
  }
 },
 "nbformat": 4,
 "nbformat_minor": 2
}
