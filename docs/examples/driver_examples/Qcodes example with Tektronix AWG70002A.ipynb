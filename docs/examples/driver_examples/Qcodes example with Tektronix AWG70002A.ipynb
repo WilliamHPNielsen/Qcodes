{
 "cells": [
  {
   "cell_type": "markdown",
   "metadata": {},
   "source": [
    "# QCoDeS Example with Tektronix AWG70002A"
   ]
  },
  {
   "cell_type": "code",
   "execution_count": 1,
   "metadata": {
    "collapsed": true
   },
   "outputs": [],
   "source": [
    "from qcodes.instrument_drivers.tektronix.AWG70002A import AWG70002A"
   ]
  },
  {
   "cell_type": "code",
   "execution_count": 2,
   "metadata": {
    "collapsed": false
   },
   "outputs": [
    {
     "name": "stdout",
     "output_type": "stream",
     "text": [
      "Connected to: TEKTRONIX AWG70002A (serial:B020397, firmware:FV:5.3.0128.0) in 0.08s\n"
     ]
    }
   ],
   "source": [
    "awg = AWG70002A('awg', 'TCPIP0::172.20.2.101::inst0::INSTR')"
   ]
  },
  {
   "cell_type": "code",
   "execution_count": 3,
   "metadata": {
    "collapsed": false
   },
   "outputs": [
    {
     "data": {
      "text/plain": [
       "{'firmware': 'FV:5.3.0128.0',\n",
       " 'model': 'AWG70002A',\n",
       " 'serial': 'B020397',\n",
       " 'vendor': 'TEKTRONIX'}"
      ]
     },
     "execution_count": 3,
     "metadata": {},
     "output_type": "execute_result"
    }
   ],
   "source": [
    "awg.IDN()"
   ]
  },
  {
   "cell_type": "code",
   "execution_count": 4,
   "metadata": {
    "collapsed": false
   },
   "outputs": [
    {
     "name": "stdout",
     "output_type": "stream",
     "text": [
      "awg:\n",
      "\tparameter value\n",
      "--------------------------------------------------------------------------------\n",
      "IDN     :\t{'vendor': 'TEKTRONIX', 'serial': 'B020397', 'model': 'AWG70002A', ...\n",
      "timeout :\t10 (s)\n",
      "awg_ch2:\n",
      "\tparameter value\n",
      "--------------------------------------------------------------------------------\n",
      "amplitude :\t0.5 \n",
      "dclevel   :\t0 \n",
      "frequency :\t1.2e+06 \n",
      "state     :\t0 \n",
      "awg_ch1:\n",
      "\tparameter value\n",
      "--------------------------------------------------------------------------------\n",
      "amplitude :\t0.2 \n",
      "dclevel   :\t0 \n",
      "frequency :\t1.2e+06 \n",
      "state     :\t0 \n"
     ]
    }
   ],
   "source": [
    "awg.print_readable_snapshot(update=True)"
   ]
  },
  {
   "cell_type": "code",
   "execution_count": 5,
   "metadata": {
    "collapsed": false
   },
   "outputs": [
    {
     "name": "stdout",
     "output_type": "stream",
     "text": [
      "<DataFile offset=\"000000482\" version=\"0.2\">\n",
      "<DataSetsCollection>\n",
      "<DataSets version=\"1\">\n",
      "<DataDescription>\n",
      "<NumberSamples>10</NumberSamples>\n",
      "<SamplesType>AWGWaveformSample</SamplesType>\n",
      "<MarkersIncluded>true</MarkersIncluded>\n",
      "<NumberFormat>Single</NumberFormat>\n",
      "<Endian>Little</Endian>\n",
      "<Timestamp>2017-09-20T11:14:57.1505898897-01:00</Timestamp>\n",
      "</DataDescription>\n",
      "<ProductSpecific>\n",
      "<CreatorProperties name=\"QCoDeS\" />\n",
      "</ProductSpecific>\n",
      "</DataSets>\n",
      "</DataSetsCollection>\n",
      "</DataFile>\n"
     ]
    }
   ],
   "source": [
    "xmlstr = awg._makeWFMXFileHeader(num_samples=10, markers_included=True)\n",
    "print(xmlstr)"
   ]
  },
  {
   "cell_type": "markdown",
   "metadata": {},
   "source": [
    "<DataFile offset=\"000000000\" version=\"0.2\">\n",
    "<DataSetsCollection />\n",
    "<DataSets version=\"1\" />\n",
    "</DataFile>\n",
    "\n"
   ]
  }
 ],
 "metadata": {
  "kernelspec": {
   "display_name": "Python 3",
   "language": "python",
   "name": "python3"
  },
  "language_info": {
   "codemirror_mode": {
    "name": "ipython",
    "version": 3
   },
   "file_extension": ".py",
   "mimetype": "text/x-python",
   "name": "python",
   "nbconvert_exporter": "python",
   "pygments_lexer": "ipython3",
   "version": "3.5.3"
  }
 },
 "nbformat": 4,
 "nbformat_minor": 2
}
