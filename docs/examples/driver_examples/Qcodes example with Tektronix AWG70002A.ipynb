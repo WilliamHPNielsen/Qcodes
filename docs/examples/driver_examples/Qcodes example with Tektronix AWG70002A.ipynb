{
 "cells": [
  {
   "cell_type": "markdown",
   "metadata": {},
   "source": [
    "# QCoDeS Example with Tektronix AWG70002A\n",
    "\n",
    "The Tektronix awg70002A can operate in two modes: function generator mode or AWG mode. This example notebook briefly covers both."
   ]
  },
  {
   "cell_type": "code",
   "execution_count": 1,
   "metadata": {
    "collapsed": false
   },
   "outputs": [],
   "source": [
    "%matplotlib notebook\n",
    "import matplotlib.pyplot as plt\n",
    "\n",
    "import numpy as np\n",
    "from qcodes.instrument_drivers.tektronix.AWG70002A import AWG70002A"
   ]
  },
  {
   "cell_type": "code",
   "execution_count": 2,
   "metadata": {
    "collapsed": false
   },
   "outputs": [
    {
     "name": "stdout",
     "output_type": "stream",
     "text": [
      "Connected to: TEKTRONIX AWG70002A (serial:B020397, firmware:FV:5.3.0128.0) in 0.08s\n"
     ]
    }
   ],
   "source": [
    "awg = AWG70002A('awg', 'TCPIP0::172.20.2.101::inst0::INSTR', terminator='\\n')"
   ]
  },
  {
   "cell_type": "code",
   "execution_count": 3,
   "metadata": {
    "collapsed": false
   },
   "outputs": [
    {
     "name": "stdout",
     "output_type": "stream",
     "text": [
      "awg:\n",
      "\tparameter        value\n",
      "--------------------------------------------------------------------------------\n",
      "IDN               :\t{'model': 'AWG70002A', 'vendor': 'TEKTRONIX', 'serial': '...\n",
      "current_directory :\t\"\\Users\\OEM\\Documents\" \n",
      "mode              :\tAWG \n",
      "timeout           :\t10 (s)\n",
      "awg_ch1:\n",
      "\tparameter      value\n",
      "--------------------------------------------------------------------------------\n",
      "fgen_amplitude  :\t0.074 (V)\n",
      "fgen_dclevel    :\t0 (V)\n",
      "fgen_frequency  :\t1e+07 (Hz)\n",
      "fgen_offset     :\t0.12 (V)\n",
      "fgen_period     :\t1e-07 (s)\n",
      "fgen_phase      :\t25 (degrees)\n",
      "fgen_signalpath :\tdirect \n",
      "fgen_symmetry   :\t50 (%)\n",
      "fgen_type       :\tEXPONENTIALDECAY \n",
      "resolution      :\t8 \n",
      "state           :\t0 \n",
      "awg_ch2:\n",
      "\tparameter      value\n",
      "--------------------------------------------------------------------------------\n",
      "fgen_amplitude  :\t0.5 (V)\n",
      "fgen_dclevel    :\t0 (V)\n",
      "fgen_frequency  :\t1e+07 (Hz)\n",
      "fgen_offset     :\t0 (V)\n",
      "fgen_period     :\t1e-07 (s)\n",
      "fgen_phase      :\t0 (degrees)\n",
      "fgen_signalpath :\tdirect \n",
      "fgen_symmetry   :\t50 (%)\n",
      "fgen_type       :\tSINE \n",
      "resolution      :\t10 \n",
      "state           :\t0 \n"
     ]
    }
   ],
   "source": [
    "# Let's have a look at the available parameters\n",
    "\n",
    "awg.print_readable_snapshot(update=True)"
   ]
  },
  {
   "cell_type": "markdown",
   "metadata": {},
   "source": [
    "## Function Generator Style Operation"
   ]
  },
  {
   "cell_type": "code",
   "execution_count": 4,
   "metadata": {
    "collapsed": false
   },
   "outputs": [],
   "source": [
    "# Set the intrument mode to function generator\n",
    "awg.mode('FGEN')\n",
    "\n",
    "# Build some signal\n",
    "awg.ch1.fgen_type('EXPONENTIALDECAY')\n",
    "awg.ch1.fgen_frequency(10e6)\n",
    "awg.ch1.fgen_amplitude(0.074)\n",
    "awg.ch1.fgen_offset(0.12)\n",
    "awg.ch1.fgen_phase(25)\n",
    "\n",
    "# Switch channel 1 on\n",
    "awg.ch1.state(1)\n",
    "\n",
    "# Start outputting...\n",
    "awg.play()"
   ]
  },
  {
   "cell_type": "code",
   "execution_count": 5,
   "metadata": {
    "collapsed": true
   },
   "outputs": [],
   "source": [
    "# switch off the output eventually\n",
    "awg.stop()\n",
    "\n",
    "# and disable the channel\n",
    "awg.ch1.state(0)"
   ]
  },
  {
   "cell_type": "markdown",
   "metadata": {},
   "source": [
    "## AWG Style Operation\n",
    "\n",
    "The instrument can be operated as an awg where the user uploads arrays describing the waveforms.\n",
    "\n",
    "Each channel operates in one of three resolution modes:\n",
    "\n",
    "* 8 bit signal + 2 markers\n",
    "* 9 bit signal + 1 marker\n",
    "* 10 bit signal with no markers\n",
    "\n",
    "Waveforms can be sent to the waveform list via `.wfmx` files. A `.wfmx` file can contain marker data. If the resolution of the instrument does not allow for markers, these are simply ignored."
   ]
  },
  {
   "cell_type": "markdown",
   "metadata": {},
   "source": [
    "### Making and sending waveforms to the waveform list"
   ]
  },
  {
   "cell_type": "code",
   "execution_count": 6,
   "metadata": {
    "collapsed": true
   },
   "outputs": [],
   "source": [
    "# set the instrument in awg mode\n",
    "awg.mode('AWG')\n",
    "# set the resolution to 8 bits plus two markers\n",
    "awg.ch1.resolution(8)"
   ]
  },
  {
   "cell_type": "code",
   "execution_count": 7,
   "metadata": {
    "collapsed": true
   },
   "outputs": [],
   "source": [
    "# clear the sequence list and waveform list (NOT ALWAYS A GOOD IDEA! BE CAREFUL!)\n",
    "awg.clearSequenceList()\n",
    "awg.clearWaveformList()"
   ]
  },
  {
   "cell_type": "code",
   "execution_count": 8,
   "metadata": {
    "collapsed": false
   },
   "outputs": [],
   "source": [
    "# Let us make a sine, upload it and play it\n",
    "\n",
    "N = 50000  # minimal length allowed is 2400 points\n",
    "\n",
    "mysine = np.sin(10*2*np.pi*np.linspace(0, 1, N))\n",
    "m1 = np.concatenate((np.ones(int(N/2)), np.zeros(int(N/2))))\n",
    "m2 = np.concatenate((np.zeros(int(N/2)), np.zeros(int(N/2))))\n",
    "\n",
    "data = np.array([mysine, m1, m2])"
   ]
  },
  {
   "cell_type": "code",
   "execution_count": 9,
   "metadata": {
    "collapsed": true
   },
   "outputs": [],
   "source": [
    "# The .wfmx file needs a name in the memory of the instrument\n",
    "# The name of the waveform in the waveform list is that same name\n",
    "# with no .wfmx extension\n",
    "filename = 'examplewaveform.wfmx'"
   ]
  },
  {
   "cell_type": "code",
   "execution_count": 10,
   "metadata": {
    "collapsed": false
   },
   "outputs": [],
   "source": [
    "# now compile the binary file\n",
    "wfmx_file = awg.makeWFMXFile(data)"
   ]
  },
  {
   "cell_type": "code",
   "execution_count": 11,
   "metadata": {
    "collapsed": false
   },
   "outputs": [],
   "source": [
    "# and send it and load it into memory\n",
    "awg.sendWFMXFile(wfmx_file, filename)\n",
    "awg.loadWFMXFile(filename)"
   ]
  },
  {
   "cell_type": "code",
   "execution_count": 12,
   "metadata": {
    "collapsed": false
   },
   "outputs": [
    {
     "data": {
      "text/plain": [
       "['examplewaveform']"
      ]
     },
     "execution_count": 12,
     "metadata": {},
     "output_type": "execute_result"
    }
   ],
   "source": [
    "# The waveform is now in the waveform list\n",
    "awg.waveformList"
   ]
  },
  {
   "cell_type": "code",
   "execution_count": 13,
   "metadata": {
    "collapsed": true
   },
   "outputs": [],
   "source": [
    "# now assign it to channel 1\n",
    "awg.ch1.setWaveform(filename.replace('.wfmx', ''))"
   ]
  },
  {
   "cell_type": "code",
   "execution_count": 14,
   "metadata": {
    "collapsed": true
   },
   "outputs": [],
   "source": [
    "# Switch channel 1 on\n",
    "awg.ch1.state(1)\n",
    "\n",
    "# Start outputting...\n",
    "awg.play()"
   ]
  },
  {
   "cell_type": "code",
   "execution_count": 15,
   "metadata": {
    "collapsed": true
   },
   "outputs": [],
   "source": [
    "# switch off the output eventually\n",
    "awg.stop()\n",
    "\n",
    "# and disable the channel\n",
    "awg.ch1.state(0)"
   ]
  },
  {
   "cell_type": "code",
   "execution_count": 16,
   "metadata": {
    "collapsed": false
   },
   "outputs": [],
   "source": [
    "# Finally irreversibly tear down the instrument\n",
    "awg.close()"
   ]
  },
  {
   "cell_type": "code",
   "execution_count": null,
   "metadata": {
    "collapsed": true
   },
   "outputs": [],
   "source": []
  }
 ],
 "metadata": {
  "kernelspec": {
   "display_name": "Python 3",
   "language": "python",
   "name": "python3"
  },
  "language_info": {
   "codemirror_mode": {
    "name": "ipython",
    "version": 3
   },
   "file_extension": ".py",
   "mimetype": "text/x-python",
   "name": "python",
   "nbconvert_exporter": "python",
   "pygments_lexer": "ipython3",
   "version": "3.5.3"
  }
 },
 "nbformat": 4,
 "nbformat_minor": 2
}
